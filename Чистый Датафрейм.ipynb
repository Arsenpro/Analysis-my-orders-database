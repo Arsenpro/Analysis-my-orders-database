{
 "cells": [
  {
   "cell_type": "code",
   "execution_count": 1,
   "id": "7f21beeb",
   "metadata": {},
   "outputs": [],
   "source": [
    "import numpy as np\n",
    "import pandas as pd\n",
    "import matplotlib.pyplot as plt\n",
    "import seaborn as sns\n",
    "from datetime import datetime"
   ]
  },
  {
   "cell_type": "code",
   "execution_count": 2,
   "id": "224be829",
   "metadata": {},
   "outputs": [],
   "source": [
    "df = pd.read_csv('Клиентская база для анализа.csv')"
   ]
  },
  {
   "cell_type": "code",
   "execution_count": 5,
   "id": "7b8a34b1",
   "metadata": {},
   "outputs": [
    {
     "data": {
      "text/html": [
       "<div>\n",
       "<style scoped>\n",
       "    .dataframe tbody tr th:only-of-type {\n",
       "        vertical-align: middle;\n",
       "    }\n",
       "\n",
       "    .dataframe tbody tr th {\n",
       "        vertical-align: top;\n",
       "    }\n",
       "\n",
       "    .dataframe thead th {\n",
       "        text-align: right;\n",
       "    }\n",
       "</style>\n",
       "<table border=\"1\" class=\"dataframe\">\n",
       "  <thead>\n",
       "    <tr style=\"text-align: right;\">\n",
       "      <th></th>\n",
       "      <th>ОБСУЖДЕНИЕ</th>\n",
       "      <th>Unnamed: 1</th>\n",
       "      <th>ЖДУ ОПЛАТУ</th>\n",
       "      <th>Unnamed: 3</th>\n",
       "      <th>ОПЛАЧЕН</th>\n",
       "      <th>Unnamed: 5</th>\n",
       "      <th>ВЫПОЛНЕН</th>\n",
       "      <th>Unnamed: 7</th>\n",
       "      <th>Unnamed: 8</th>\n",
       "      <th>Unnamed: 9</th>\n",
       "    </tr>\n",
       "  </thead>\n",
       "  <tbody>\n",
       "    <tr>\n",
       "      <th>0</th>\n",
       "      <td>ДАТА</td>\n",
       "      <td>ВРЕМЯ ДОСТАВКИ</td>\n",
       "      <td>АДРЕС</td>\n",
       "      <td>ЗАКАЗ</td>\n",
       "      <td>ИМЯ</td>\n",
       "      <td>ТЕЛЕФОН</td>\n",
       "      <td>ИНСТАГРАМ</td>\n",
       "      <td>ПОЧТА</td>\n",
       "      <td>ИТОГ</td>\n",
       "      <td>КОММЕНТАРИЙ</td>\n",
       "    </tr>\n",
       "    <tr>\n",
       "      <th>1</th>\n",
       "      <td>28.05</td>\n",
       "      <td>21:00-23:00</td>\n",
       "      <td>Такая-то улица, такой-то дом,</td>\n",
       "      <td>1) связка шаров 12 штук (хром как на фото) \\n2...</td>\n",
       "      <td>Мария</td>\n",
       "      <td>7 ХХХ-ХХ-ХХ</td>\n",
       "      <td>NaN</td>\n",
       "      <td>NaN</td>\n",
       "      <td>4850</td>\n",
       "      <td>Позвонить на моб. перед домофоном</td>\n",
       "    </tr>\n",
       "    <tr>\n",
       "      <th>2</th>\n",
       "      <td>02.06</td>\n",
       "      <td>8:00</td>\n",
       "      <td>Такая-то улица, такой-то дом,</td>\n",
       "      <td>1) Колонны на вход (ярко зеленый, бирюза, тифф...</td>\n",
       "      <td>Аня</td>\n",
       "      <td>7 ХХХ-ХХ-ХХ</td>\n",
       "      <td>NaN</td>\n",
       "      <td>NaN</td>\n",
       "      <td>15490</td>\n",
       "      <td>Манифик Manifik (ОТМЕНА ЗАКАЗА ИЗ ЗА КОВИДА)</td>\n",
       "    </tr>\n",
       "    <tr>\n",
       "      <th>3</th>\n",
       "      <td>12.06</td>\n",
       "      <td>20:30</td>\n",
       "      <td>Такая-то улица, такой-то дом,</td>\n",
       "      <td>1) 2 связки шаров состоящие из:\\n-3 диско шаро...</td>\n",
       "      <td>Мария</td>\n",
       "      <td>7 ХХХ-ХХ-ХХ</td>\n",
       "      <td>NaN</td>\n",
       "      <td>NaN</td>\n",
       "      <td>7240</td>\n",
       "      <td>Парковку не стал учитывать</td>\n",
       "    </tr>\n",
       "    <tr>\n",
       "      <th>4</th>\n",
       "      <td>14.06</td>\n",
       "      <td>9:00-12:00</td>\n",
       "      <td>Такая-то улица, такой-то дом,</td>\n",
       "      <td>1) 2 связки шаров состоящие из:\\n-6 звёзд (зол...</td>\n",
       "      <td>Ирина</td>\n",
       "      <td>7 ХХХ-ХХ-ХХ</td>\n",
       "      <td>NaN</td>\n",
       "      <td>NaN</td>\n",
       "      <td>4100</td>\n",
       "      <td>NaN</td>\n",
       "    </tr>\n",
       "  </tbody>\n",
       "</table>\n",
       "</div>"
      ],
      "text/plain": [
       "  ОБСУЖДЕНИЕ      Unnamed: 1                     ЖДУ ОПЛАТУ  \\\n",
       "0       ДАТА  ВРЕМЯ ДОСТАВКИ                         АДРЕС    \n",
       "1      28.05     21:00-23:00  Такая-то улица, такой-то дом,   \n",
       "2      02.06            8:00  Такая-то улица, такой-то дом,   \n",
       "3      12.06           20:30  Такая-то улица, такой-то дом,   \n",
       "4      14.06      9:00-12:00  Такая-то улица, такой-то дом,   \n",
       "\n",
       "                                          Unnamed: 3 ОПЛАЧЕН   Unnamed: 5  \\\n",
       "0                                              ЗАКАЗ    ИМЯ       ТЕЛЕФОН   \n",
       "1  1) связка шаров 12 штук (хром как на фото) \\n2...   Мария  7 ХХХ-ХХ-ХХ   \n",
       "2  1) Колонны на вход (ярко зеленый, бирюза, тифф...     Аня  7 ХХХ-ХХ-ХХ   \n",
       "3  1) 2 связки шаров состоящие из:\\n-3 диско шаро...   Мария  7 ХХХ-ХХ-ХХ   \n",
       "4  1) 2 связки шаров состоящие из:\\n-6 звёзд (зол...   Ирина  7 ХХХ-ХХ-ХХ   \n",
       "\n",
       "    ВЫПОЛНЕН Unnamed: 7 Unnamed: 8  \\\n",
       "0  ИНСТАГРАМ      ПОЧТА       ИТОГ   \n",
       "1        NaN        NaN       4850   \n",
       "2        NaN        NaN      15490   \n",
       "3        NaN        NaN       7240   \n",
       "4        NaN        NaN       4100   \n",
       "\n",
       "                                     Unnamed: 9  \n",
       "0                                   КОММЕНТАРИЙ  \n",
       "1             Позвонить на моб. перед домофоном  \n",
       "2  Манифик Manifik (ОТМЕНА ЗАКАЗА ИЗ ЗА КОВИДА)  \n",
       "3                    Парковку не стал учитывать  \n",
       "4                                           NaN  "
      ]
     },
     "execution_count": 5,
     "metadata": {},
     "output_type": "execute_result"
    }
   ],
   "source": [
    "df.head()"
   ]
  },
  {
   "cell_type": "code",
   "execution_count": 6,
   "id": "a30201ea",
   "metadata": {},
   "outputs": [],
   "source": [
    "df = df.drop(columns = ['ЖДУ ОПЛАТУ','Unnamed: 5','ВЫПОЛНЕН','Unnamed: 7'],axis = 1)"
   ]
  },
  {
   "cell_type": "code",
   "execution_count": 7,
   "id": "0da27dcb",
   "metadata": {},
   "outputs": [],
   "source": [
    "df.rename(columns = {'ОБСУЖДЕНИЕ' : 'ДАТА', 'Unnamed: 1' : 'ВРЕМЯ ДОСТАВКИ','Unnamed: 3' : 'ЗАКАЗ',\n",
    "                     'ОПЛАЧЕН' : 'ИМЯ','Unnamed: 8' : 'ИТОГ','Unnamed: 9' : 'КОММЕНТАРИЙ'}, inplace = True)"
   ]
  },
  {
   "cell_type": "code",
   "execution_count": 8,
   "id": "113c3d8f",
   "metadata": {},
   "outputs": [],
   "source": [
    "df = df.drop(labels = [0],axis = 0)"
   ]
  },
  {
   "cell_type": "code",
   "execution_count": 9,
   "id": "ac7a777c",
   "metadata": {},
   "outputs": [],
   "source": [
    "df = df.reset_index()"
   ]
  },
  {
   "cell_type": "code",
   "execution_count": 10,
   "id": "6e2621b1",
   "metadata": {},
   "outputs": [],
   "source": [
    "df = df.drop('index',axis=1)"
   ]
  },
  {
   "cell_type": "code",
   "execution_count": 11,
   "id": "d8a1ac90",
   "metadata": {},
   "outputs": [],
   "source": [
    "df['ДАТА'] = pd.concat([df['ДАТА'].iloc[0:124] + '.2021',\n",
    "                           df['ДАТА'].iloc[125:] + '.2022'])"
   ]
  },
  {
   "cell_type": "code",
   "execution_count": 15,
   "id": "fb4a7c2a",
   "metadata": {},
   "outputs": [],
   "source": [
    "df['ДАТА'] = pd.to_datetime(df['ДАТА'], format='%d.%m.%Y')"
   ]
  },
  {
   "cell_type": "code",
   "execution_count": 17,
   "id": "2dce20c6",
   "metadata": {
    "scrolled": true
   },
   "outputs": [
    {
     "data": {
      "text/plain": [
       "(array([148], dtype=int64), array([4], dtype=int64))"
      ]
     },
     "execution_count": 17,
     "metadata": {},
     "output_type": "execute_result"
    }
   ],
   "source": [
    "np.where(df == '3030 руб')"
   ]
  },
  {
   "cell_type": "code",
   "execution_count": 18,
   "id": "d9542534",
   "metadata": {},
   "outputs": [
    {
     "data": {
      "text/plain": [
       "ДАТА                                            2022-02-14 00:00:00\n",
       "ВРЕМЯ ДОСТАВКИ                                                16:00\n",
       "ЗАКАЗ             1) бабл 45 с мини шариками сердцами внутри , г...\n",
       "ИМЯ                                                       Елизавета\n",
       "ИТОГ                                                       3030 руб\n",
       "КОММЕНТАРИЙ       Заказ супер срочный, не стал делать скидку, не...\n",
       "Name: 148, dtype: object"
      ]
     },
     "execution_count": 18,
     "metadata": {},
     "output_type": "execute_result"
    }
   ],
   "source": [
    "df.loc[148]"
   ]
  },
  {
   "cell_type": "code",
   "execution_count": 19,
   "id": "fe8d4b6a",
   "metadata": {},
   "outputs": [],
   "source": [
    "df.loc[148, 'ИТОГ'] = 3030"
   ]
  },
  {
   "cell_type": "code",
   "execution_count": 20,
   "id": "84fbd9c6",
   "metadata": {},
   "outputs": [],
   "source": [
    "df['ИТОГ'] = df['ИТОГ'].fillna('0')"
   ]
  },
  {
   "cell_type": "code",
   "execution_count": 21,
   "id": "946c053f",
   "metadata": {},
   "outputs": [],
   "source": [
    "df['ИТОГ'] = df['ИТОГ'].astype(str).astype(int)"
   ]
  },
  {
   "cell_type": "code",
   "execution_count": 23,
   "id": "88664404",
   "metadata": {
    "scrolled": true
   },
   "outputs": [
    {
     "name": "stdout",
     "output_type": "stream",
     "text": [
      "<class 'pandas.core.frame.DataFrame'>\n",
      "RangeIndex: 244 entries, 0 to 243\n",
      "Data columns (total 6 columns):\n",
      " #   Column          Non-Null Count  Dtype         \n",
      "---  ------          --------------  -----         \n",
      " 0   ДАТА            243 non-null    datetime64[ns]\n",
      " 1   ВРЕМЯ ДОСТАВКИ  242 non-null    object        \n",
      " 2   ЗАКАЗ           244 non-null    object        \n",
      " 3   ИМЯ             243 non-null    object        \n",
      " 4   ИТОГ            244 non-null    int32         \n",
      " 5   КОММЕНТАРИЙ     134 non-null    object        \n",
      "dtypes: datetime64[ns](1), int32(1), object(4)\n",
      "memory usage: 10.6+ KB\n"
     ]
    }
   ],
   "source": [
    "df.info()"
   ]
  },
  {
   "cell_type": "code",
   "execution_count": 25,
   "id": "9b2f4b6d",
   "metadata": {},
   "outputs": [],
   "source": [
    "df.to_csv('Чистый датафрейм.csv', index=False)"
   ]
  },
  {
   "cell_type": "code",
   "execution_count": null,
   "id": "c0b34b18",
   "metadata": {},
   "outputs": [],
   "source": []
  }
 ],
 "metadata": {
  "kernelspec": {
   "display_name": "Python 3 (ipykernel)",
   "language": "python",
   "name": "python3"
  },
  "language_info": {
   "codemirror_mode": {
    "name": "ipython",
    "version": 3
   },
   "file_extension": ".py",
   "mimetype": "text/x-python",
   "name": "python",
   "nbconvert_exporter": "python",
   "pygments_lexer": "ipython3",
   "version": "3.9.12"
  }
 },
 "nbformat": 4,
 "nbformat_minor": 5
}
